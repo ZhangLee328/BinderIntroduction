{
 "cells": [
  {
   "cell_type": "code",
   "execution_count": 1,
   "metadata": {},
   "outputs": [],
   "source": [
    "import urllib\n",
    "import urllib.parse\n",
    "import json\n",
    "import pandas as pd\n",
    "from pandas import ExcelWriter\n",
    "import requests\n",
    "import base64\n",
    "import time\n",
    "from os import walk\n",
    "import re\n",
    "import nltk\n",
    "from nltk.tokenize import word_tokenize\n",
    "from nltk.corpus import (\n",
    "    wordnet,\n",
    "    stopwords\n",
    ")"
   ]
  },
  {
   "cell_type": "code",
   "execution_count": 6,
   "metadata": {},
   "outputs": [],
   "source": [
    "path_folder_input_persona = r'C:\\Users\\f_sohnoume\\OneDrive - UNCG\\f_sohnoume (faculty)\\Fall 2020\\Social Media Paper\\Personality Traits\\Output (Leaders and Followers Persona)'\n",
    "path_file_input=path_folder_input_persona + \"\\\\\"+ \"LIWC2015 Results (followers_tweets_persona).csv\"\n",
    "df=pd.read_csv(path_file_input)\n",
    "df=df.drop(['Source (B)'], axis=1)"
   ]
  },
  {
   "cell_type": "code",
   "execution_count": 8,
   "metadata": {},
   "outputs": [],
   "source": [
    "path_folder_input_persona = r'C:\\Users\\f_sohnoume\\OneDrive - UNCG\\f_sohnoume (faculty)\\Fall 2020\\Social Media Paper\\Personality Traits\\Output (Leaders and Followers Persona)'\n",
    "path_file_input=path_folder_input_persona + \"\\\\\"+ \"LIWC2015 Results (followers_tweets_persona).csv\"\n",
    "df=pd.read_csv(path_file_input)\n",
    "df=df.drop(['Source (B)'], axis=1)\n",
    "path_file_output=path_folder_input_persona + \"\\\\\"+ \"LIWC2015 Results (followers_tweets_persona).xlsx\"\n",
    "writer = ExcelWriter(path_file_output)\n",
    "df.to_excel(writer,'Sheet1',index=False)\n",
    "writer.save()\n",
    "#...\n",
    "path_folder_input_persona = r'C:\\Users\\f_sohnoume\\OneDrive - UNCG\\f_sohnoume (faculty)\\Fall 2020\\Social Media Paper\\Personality Traits\\Output (Leaders and Followers Persona)'\n",
    "path_file_input=path_folder_input_persona + \"\\\\\"+ \"LIWC2015 Results (leaders_tweets_persona).csv\"\n",
    "df=pd.read_csv(path_file_input)\n",
    "df=df.drop(['Source (B)'], axis=1)\n",
    "path_file_output=path_folder_input_persona + \"\\\\\"+ \"LIWC2015 Results (leaders_tweets_persona).xlsx\"\n",
    "writer = ExcelWriter(path_file_output)\n",
    "df.to_excel(writer,'Sheet1',index=False)\n",
    "writer.save()"
   ]
  },
  {
   "cell_type": "code",
   "execution_count": null,
   "metadata": {},
   "outputs": [],
   "source": []
  },
  {
   "cell_type": "code",
   "execution_count": 17,
   "metadata": {},
   "outputs": [],
   "source": [
    "path_folder_input_persona = r'C:\\Users\\f_sohnoume\\OneDrive - UNCG\\f_sohnoume (faculty)\\Fall 2020\\Social Media Paper\\Personality Traits\\Output (Leaders and Followers Persona)'\n",
    "path_file_input=path_folder_input_persona + \"\\\\\"+ \"Coefficients.xlsx\"\n",
    "df=pd.read_excel(path_file_input, index_col=None)"
   ]
  },
  {
   "cell_type": "code",
   "execution_count": 18,
   "metadata": {},
   "outputs": [
    {
     "name": "stdout",
     "output_type": "stream",
     "text": [
      "N=i*0.12+we*0.0+you*-0.15+they*0.0+shehe*0.0+negate*0.11+article*-0.11+prep*0.0+number*0.0+affect*0.0+posemo*0.0+negemo*0.16+anx*0.17+anger*0.13+sad*0.1+cogproc*0.13+cause*0.11+insight*0.0+discrep*0.13+tentat*0.12+certain*0.13+see*0.0+hear*0.0+feel*0.1+social*0.0+friend*-0.08+family*0.0+time*0.0+focuspast*0.0+focuspresent*0.0+focusfuture*0.0+space*-0.09+motion*0.0+work*0.0+achieve*0.0+leisure*0.0+home*0.0+money*0.0+relig*0.0+death*0.0+body*0.0+sexual*0.0+swear*0.11+\n",
      "E=i*0.0+we*0.11+you*0.16+they*0.0+shehe*0.0+negate*0.0+article*0.0+prep*0.0+number*-0.12+affect*0.09+posemo*0.1+negemo*0.0+anx*0.0+anger*0.0+sad*0.0+cogproc*0.0+cause*-0.09+insight*0.0+discrep*0.0+tentat*-0.11+certain*0.1+see*0.0+hear*0.12+feel*0.0+social*0.15+friend*0.15+family*0.09+time*0.0+focuspast*0.0+focuspresent*0.0+focusfuture*0.0+space*0.0+motion*0.0+work*-0.08+achieve*-0.09+leisure*0.08+home*0.0+money*0.0+relig*0.11+death*0.0+body*0.1+sexual*0.17+swear*0.0+\n",
      "O=i*-0.16+we*-0.1+you*-0.12+they*0.0+shehe*0.0+negate*-0.13+article*0.2+prep*0.17+number*-0.08+affect*-0.12+posemo*-0.15+negemo*0.0+anx*0.0+anger*0.0+sad*0.0+cogproc*-0.09+cause*0.0+insight*0.0+discrep*-0.12+tentat*0.0+certain*0.0+see*0.0+hear*-0.08+feel*0.0+social*-0.14+friend*0.0+family*-0.17+time*-0.22+focuspast*-0.16+focuspresent*-0.16+focusfuture*0.0+space*-0.11+motion*-0.22+work*0.0+achieve*0.0+leisure*-0.17+home*-0.2+money*0.0+relig*0.0+death*0.15+body*0.0+sexual*0.0+swear*0.0+\n",
      "A=i*0.0+we*0.18+you*0.0+they*0.0+shehe*0.0+negate*0.0+article*0.0+prep*0.0+number*0.11+affect*0.0+posemo*0.18+negemo*-0.15+anx*0.0+anger*-0.23+sad*0.0+cogproc*0.0+cause*-0.11+insight*0.0+discrep*0.0+tentat*0.0+certain*0.0+see*0.09+hear*0.0+feel*0.1+social*0.13+friend*0.11+family*0.19+time*0.12+focuspast*0.1+focuspresent*0.0+focusfuture*0.0+space*0.16+motion*0.14+work*0.0+achieve*0.0+leisure*0.15+home*0.19+money*-0.11+relig*0.0+death*-0.13+body*0.09+sexual*0.08+swear*-0.21+\n",
      "C=i*0.0+we*0.0+you*0.0+they*0.0+shehe*0.0+negate*-0.17+article*0.09+prep*0.0+number*0.0+affect*0.0+posemo*0.0+negemo*-0.18+anx*0.0+anger*-0.19+sad*-0.11+cogproc*-0.11+cause*-0.12+insight*0.0+discrep*-0.13+tentat*-0.1+certain*-0.1+see*0.0+hear*-0.12+feel*0.0+social*0.0+friend*0.0+family*0.0+time*0.09+focuspast*0.0+focuspresent*0.0+focusfuture*0.0+space*0.0+motion*0.0+work*0.0+achieve*0.14+leisure*0.0+home*0.0+money*0.0+relig*0.0+death*-0.12+body*0.0+sexual*0.0+swear*-0.14+\n"
     ]
    }
   ],
   "source": [
    "for column in ['N', 'E', 'O', 'A', 'C']:\n",
    "    combination = \"\"\n",
    "    combination += column+\"=\"\n",
    "    index = 0\n",
    "    for coef in df[column]:\n",
    "        combination +=str(df['LIWC category'][index])+\"*\"+str(coef)+\"+\"\n",
    "        index+=1\n",
    "    print(combination)\n",
    "        \n"
   ]
  },
  {
   "cell_type": "code",
   "execution_count": 14,
   "metadata": {},
   "outputs": [
    {
     "data": {
      "text/plain": [
       "Index(['LIWC category', 'N', 'E', 'O', 'A', 'C'], dtype='object')"
      ]
     },
     "execution_count": 14,
     "metadata": {},
     "output_type": "execute_result"
    }
   ],
   "source": [
    "df.columns"
   ]
  },
  {
   "cell_type": "code",
   "execution_count": null,
   "metadata": {},
   "outputs": [],
   "source": []
  },
  {
   "cell_type": "code",
   "execution_count": null,
   "metadata": {},
   "outputs": [],
   "source": []
  },
  {
   "cell_type": "code",
   "execution_count": null,
   "metadata": {},
   "outputs": [],
   "source": []
  }
 ],
 "metadata": {
  "kernelspec": {
   "display_name": "Python 3",
   "language": "python",
   "name": "python3"
  },
  "language_info": {
   "codemirror_mode": {
    "name": "ipython",
    "version": 3
   },
   "file_extension": ".py",
   "mimetype": "text/x-python",
   "name": "python",
   "nbconvert_exporter": "python",
   "pygments_lexer": "ipython3",
   "version": "3.8.3"
  }
 },
 "nbformat": 4,
 "nbformat_minor": 4
}
